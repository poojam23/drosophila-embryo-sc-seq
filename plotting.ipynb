{
 "cells": [
  {
   "cell_type": "code",
   "execution_count": 1,
   "metadata": {
    "collapsed": true
   },
   "outputs": [],
   "source": [
    "from sklearn.linear_model import Ridge\n",
    "import matplotlib.pyplot as plt\n",
    "import pandas as pd"
   ]
  },
  {
   "cell_type": "code",
   "execution_count": 2,
   "metadata": {
    "collapsed": true
   },
   "outputs": [],
   "source": [
    "def getClusterLabels(X):\n",
    "    cell_cluster_labels = []\n",
    "    for cell_name in list(X.index):\n",
    "        cell_cluster_labels.append(cell_name.split(\"_\")[1])\n",
    "    return cell_cluster_labels"
   ]
  },
  {
   "cell_type": "code",
   "execution_count": 3,
   "metadata": {
    "collapsed": true
   },
   "outputs": [],
   "source": [
    "def getTargetGenesWithClusters():\n",
    "    target_gene_cluster_map = {\n",
    "        'twe': ['4', '2'],\n",
    "        'sna': ['4', '2'],\n",
    "        'htl': ['4'],\n",
    "        'tin': ['4'],\n",
    "        'eve': ['3'],\n",
    "        'brk': ['3', '5'],\n",
    "        'vnd': ['3'],\n",
    "        'rho': ['6', '11'],\n",
    "        'sli': ['3', '6'],\n",
    "        'pnt': ['3', '5'],\n",
    "        'ind': ['3'],\n",
    "        'sog': ['3', '8'],\n",
    "        'ths': ['3'],\n",
    "        'zen': ['6', '10'],\n",
    "        'pnr': ['6', '3'],\n",
    "        'shn': ['4', '3'],\n",
    "        'tup': ['6', '10'],\n",
    "        'ush': ['6', '10']\n",
    "    }\n",
    "    return target_gene_cluster_map"
   ]
  },
  {
   "cell_type": "code",
   "execution_count": 4,
   "metadata": {
    "collapsed": true
   },
   "outputs": [],
   "source": [
    "def parseFile(file_name):\n",
    "    feature_genes1 = []\n",
    "    feature_genes2 = []\n",
    "    ridge_alpha = 0.0\n",
    "    with open(file_name, \"r\") as fp:\n",
    "        for line in fp:\n",
    "            token_list = line.strip().split(\":\")\n",
    "            if token_list[0] == \"select_features_1\":\n",
    "                feature_genes1 = token_list[1].split(\",\")[:-1]\n",
    "            elif token_list[0] == \"select_features_2\":\n",
    "                feature_genes2 = token_list[1].split(\",\")[:-1]\n",
    "            elif token_list[0] == \"ridge_alpha\":\n",
    "                ridge_alpha = float(token_list[1])\n",
    "    if len(feature_genes2) > 0:\n",
    "        return tuple([feature_genes2, ridge_alpha])\n",
    "    return tuple([feature_genes1, ridge_alpha])"
   ]
  },
  {
   "cell_type": "code",
   "execution_count": 5,
   "metadata": {
    "collapsed": true
   },
   "outputs": [],
   "source": [
    "def getRidgeRegressionModel(X, y, ridge_alpha):\n",
    "    model = Ridge(alpha=ridge_alpha, max_iter=2000)\n",
    "    return model.fit(X, y)"
   ]
  },
  {
   "cell_type": "code",
   "execution_count": 6,
   "metadata": {
    "collapsed": true
   },
   "outputs": [],
   "source": [
    "def plotCoefficients(features, model, plot_title, image_file_name):\n",
    "    plt.figure()\n",
    "    coef_series = pd.Series(data=model.coef_, index=features)\n",
    "    coef_series.plot.bar()\n",
    "    plt.xticks(fontsize=4)\n",
    "    plt.title(plot_title)\n",
    "    plt.savefig(image_file_name, dpi=600)\n",
    "    plt.clf()\n",
    "    plt.close()"
   ]
  },
  {
   "cell_type": "code",
   "execution_count": 7,
   "metadata": {
    "collapsed": true
   },
   "outputs": [],
   "source": [
    "def plotObservedVsPredicted(X, y, model, plot_title, image_file_name):\n",
    "    y_pred = model.predict(X)\n",
    "    plt.figure()\n",
    "    fig, ax = plt.subplots()\n",
    "    ax.scatter(y, y_pred)\n",
    "    ax.plot([y.min(), y.max()], [y.min(), y.max()], 'k--', lw=4)\n",
    "    ax.set_xlabel('Measured')\n",
    "    ax.set_ylabel('Predicted')\n",
    "    plt.title(plot_title)\n",
    "    plt.savefig(image_file_name, dpi=600)\n",
    "    plt.clf()\n",
    "    plt.close()"
   ]
  },
  {
   "cell_type": "code",
   "execution_count": 8,
   "metadata": {
    "collapsed": true
   },
   "outputs": [],
   "source": [
    "def main():\n",
    "    data_file_name = \"dge_normalized.txt\"\n",
    "    gene_sc_df = pd.read_csv(data_file_name, delimiter='\\t', header=0)\n",
    "    cells_genes_df = gene_sc_df.T\n",
    "    cell_cluster_labels = getClusterLabels(cells_genes_df)\n",
    "    cells_genes_df[\"cluster_labels\"] = cell_cluster_labels\n",
    "    target_gene_cluster_map = getTargetGenesWithClusters()\n",
    "    embryo_directory = \"using_embryo_2/\"\n",
    "    clusters_directory = \"using_clusters_2/\"\n",
    "    for target_gene, clusters in target_gene_cluster_map.items():\n",
    "        # modeling using entire embryo\n",
    "        file_name = embryo_directory + target_gene + \"_complete.txt\"\n",
    "        feature_genes, ridge_alpha = parseFile(file_name)\n",
    "        if len(feature_genes) > 0:\n",
    "            # slice the columns\n",
    "            y = cells_genes_df[target_gene].copy(deep=True)\n",
    "            X = cells_genes_df.drop({target_gene, \"cluster_labels\"}, axis=1)\n",
    "            X = X[feature_genes]\n",
    "            ridge_model = getRidgeRegressionModel(X, y, ridge_alpha)\n",
    "            coeff_file_name = embryo_directory + \"coeff_plots/\" + target_gene + \"_complete_coeff.jpg\"\n",
    "            plot_title = target_gene + \" (using all cells)\"\n",
    "            plotCoefficients(feature_genes, ridge_model, plot_title, coeff_file_name)\n",
    "            qq_file_name = embryo_directory + \"obs_pred_plots/\" + target_gene + \"_complete_qq.jpg\"\n",
    "            plot_title = target_gene + \" (using all cells)\"\n",
    "            plotObservedVsPredicted(X, y, ridge_model, plot_title, qq_file_name)\n",
    "        # modeling using only target_gene's clusters\n",
    "        file_name = clusters_directory + target_gene + \"_cluster_\" + '_'.join(clusters) + \".txt\"\n",
    "        feature_genes_cluster, ridge_alpha_cluster = parseFile(file_name)\n",
    "        if len(feature_genes_cluster) > 0:\n",
    "            # slice the rows\n",
    "            X_cluster = cells_genes_df[cells_genes_df[\"cluster_labels\"].isin(clusters)]\n",
    "            y_cluster = X_cluster[target_gene].copy(deep=True)\n",
    "            X_cluster = X_cluster.drop({target_gene, \"cluster_labels\"}, axis=1)\n",
    "            # slice the columns\n",
    "            X_cluster = X_cluster[feature_genes_cluster]\n",
    "            cluster_ridge_model = getRidgeRegressionModel(X_cluster, y_cluster, ridge_alpha_cluster)\n",
    "            coeff_file_name_cluster = clusters_directory + \"coeff_plots/\" + target_gene + \"_clusters_coeff.jpg\"\n",
    "            plot_title = target_gene + \" - using cluster(s) \" + \",\".join(clusters)\n",
    "            plotCoefficients(feature_genes_cluster, cluster_ridge_model, plot_title, coeff_file_name_cluster)\n",
    "            qq_file_name_cluster = clusters_directory + \"obs_pred_plots/\" + target_gene + \"_clusters_qq.jpg\"\n",
    "            plot_title = target_gene + \" - using cluster(s) \" + \",\".join(clusters)\n",
    "            plotObservedVsPredicted(X_cluster, y_cluster, cluster_ridge_model, plot_title, qq_file_name_cluster)"
   ]
  },
  {
   "cell_type": "code",
   "execution_count": 9,
   "metadata": {},
   "outputs": [
    {
     "name": "stderr",
     "output_type": "stream",
     "text": [
      "/Users/pooja/anaconda/lib/python3.6/site-packages/matplotlib/pyplot.py:524: RuntimeWarning: More than 20 figures have been opened. Figures created through the pyplot interface (`matplotlib.pyplot.figure`) are retained until explicitly closed and may consume too much memory. (To control this warning, see the rcParam `figure.max_open_warning`).\n",
      "  max_open_warning, RuntimeWarning)\n"
     ]
    }
   ],
   "source": [
    "main()"
   ]
  },
  {
   "cell_type": "markdown",
   "metadata": {},
   "source": [
    "References:  \n",
    "- https://scikit-learn.org/0.18/auto_examples/plot_cv_predict.html\n",
    "- https://medium.com/@dhwajraj/learning-python-regression-analysis-part-9-tests-and-validity-for-regression-models-78dcd5cde3a1"
   ]
  }
 ],
 "metadata": {
  "kernelspec": {
   "display_name": "Python 3",
   "language": "python",
   "name": "python3"
  },
  "language_info": {
   "codemirror_mode": {
    "name": "ipython",
    "version": 3
   },
   "file_extension": ".py",
   "mimetype": "text/x-python",
   "name": "python",
   "nbconvert_exporter": "python",
   "pygments_lexer": "ipython3",
   "version": "3.6.1"
  }
 },
 "nbformat": 4,
 "nbformat_minor": 2
}
