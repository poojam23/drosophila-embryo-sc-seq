{
 "cells": [
  {
   "cell_type": "code",
   "execution_count": 1,
   "metadata": {
    "collapsed": true
   },
   "outputs": [],
   "source": [
    "import numpy as np\n",
    "import pandas as pd\n",
    "from sklearn.linear_model import ElasticNet, ElasticNetCV, Ridge, RidgeCV\n",
    "from sklearn.metrics import mean_squared_error\n",
    "np.warnings.filterwarnings(\"ignore\")\n",
    "import statsmodels.api as sm\n",
    "np.warnings.resetwarnings()\n",
    "import os"
   ]
  },
  {
   "cell_type": "code",
   "execution_count": 23,
   "metadata": {},
   "outputs": [
    {
     "name": "stderr",
     "output_type": "stream",
     "text": [
      "."
     ]
    }
   ],
   "source": [
    "def getElasticNetBestHyperparams(X, y):\n",
    "    l1_ratios = [.1, .5, .7, .9, .95, .99, 1]\n",
    "    min_mse = 1\n",
    "    best_l1_ratio = 1\n",
    "    best_alpha = 1\n",
    "    params_list = []\n",
    "    for ratio in l1_ratios:\n",
    "#         encv = ElasticNetCV(l1_ratio = ratio, n_alphas = 100, cv = 5, verbose = 1, precompute = True, max_iter=2500, n_jobs = -1)\n",
    "        encv = ElasticNetCV(l1_ratio = ratio, n_alphas = 10, cv = 3, verbose = 1, precompute = True, max_iter=2500, n_jobs = -1)\n",
    "        encv.fit(X, y)\n",
    "        n_nonzeros = (encv.coef_ != 0).sum()\n",
    "        _mse = np.mean(encv.mse_path_, axis=1)[np.where(encv.alphas_ == encv.alpha_)[0][0]]\n",
    "        if (ratio == l1_ratios[0] or _mse < min_mse):\n",
    "            min_mse = _mse\n",
    "            best_l1_ratio = ratio\n",
    "            best_alpha = encv.alpha_\n",
    "        print(\"ratio(%e) -- n: %d -- alpha: %f -- mse: %f\" % (ratio, n_nonzeros, encv.alpha_, _mse))\n",
    "        if n_nonzeros == 0:\n",
    "            break\n",
    "        params_list.append(tuple([n_nonzeros, _mse, ratio, encv.alpha_]))\n",
    "    # select the simplest model whose mean-squared error is 'not so bad'\n",
    "    sorted_params_list = sorted(params_list)\n",
    "    for param_tuple in sorted_params_list:\n",
    "        if param_tuple[1] - min_mse <= 0.1:\n",
    "            print(\"for target_gene \" + y.name + \", nonzero_coeffs_num, MSE, l1-ratio, alpha:\")\n",
    "            print(param_tuple)\n",
    "            return param_tuple\n",
    "    return tuple([0, 0, 0, 0])"
   ]
  },
  {
   "cell_type": "code",
   "execution_count": 3,
   "metadata": {
    "collapsed": true
   },
   "outputs": [],
   "source": [
    "def getElasticNetSelectedFeatures(X, y, alpha, l1_ratio):\n",
    "    enet = ElasticNet(alpha=alpha, l1_ratio=l1_ratio, max_iter=2000)\n",
    "    enet.fit(X, y)\n",
    "    selected_features = []\n",
    "    for ix in range(enet.coef_.shape[0]):\n",
    "        if (enet.coef_[ix] != 0):\n",
    "            selected_features.append(ix)\n",
    "    return list(X.columns[selected_features])"
   ]
  },
  {
   "cell_type": "code",
   "execution_count": 4,
   "metadata": {
    "collapsed": true
   },
   "outputs": [],
   "source": [
    "def getOlsSelectedFeatures(X, y):\n",
    "    X = sm.add_constant(X)\n",
    "    ols_model_results = sm.OLS(y, X).fit()\n",
    "    p_values = ols_model_results.pvalues\n",
    "    p_values = p_values.where(p_values < 0.05)\n",
    "    p_values.dropna(inplace=True)\n",
    "    return list(p_values.index)[1:]"
   ]
  },
  {
   "cell_type": "code",
   "execution_count": 5,
   "metadata": {
    "collapsed": true
   },
   "outputs": [],
   "source": [
    "def getRidgeRegressionBestHyperparams(X, y):\n",
    "    ridge_cv = RidgeCV(alphas=np.linspace(.01,500,100), cv=10)\n",
    "    ridge_cv.fit(X, y)\n",
    "    best_alpha = ridge_cv.alpha_\n",
    "    y_pred = ridge_cv.predict(X)\n",
    "    rmse_train = np.sqrt(mean_squared_error(y, y_pred))\n",
    "    r2_train = ridge_cv.score(X, y)\n",
    "    return tuple([best_alpha, rmse_train, r2_train])  # (best alpha, rmse_train, r2_train)"
   ]
  },
  {
   "cell_type": "code",
   "execution_count": 6,
   "metadata": {
    "collapsed": true
   },
   "outputs": [],
   "source": [
    "def trainRidgeRegressionModel(X, y):\n",
    "    # hold-out a small percentage of the samples as test set\n",
    "    num_total_samples = X.shape[0]\n",
    "    num_features = X.shape[1]\n",
    "    test_set_size = int(0.075 * num_total_samples)\n",
    "    num_training_samples = num_total_samples - test_set_size\n",
    "    if num_training_samples < (10 * num_features):\n",
    "        test_set_size = num_total_samples - (10 * num_features)\n",
    "    test_row_ix = X.index[list(np.random.choice(a=num_total_samples, replace=False, size=test_set_size))]\n",
    "    X_test = X.loc[test_row_ix]\n",
    "    y_test = y[test_row_ix]\n",
    "    X_train = X.drop(test_row_ix, axis=0, inplace=False)\n",
    "    y_train = y.drop(test_row_ix, inplace=False)\n",
    "    alpha, rmse_train, r2_train = getRidgeRegressionBestHyperparams(X_train, y_train)\n",
    "    ridge_reg_model = Ridge(fit_intercept=True, alpha=alpha)\n",
    "    ridge_reg_model.fit(X_train, y_train)\n",
    "    r2_test = ridge_reg_model.score(X_test, y_test)\n",
    "    y_test_pred = ridge_reg_model.predict(X_test)\n",
    "    rmse_test = np.sqrt(mean_squared_error(y_test, y_test_pred))\n",
    "    return tuple([alpha, rmse_train, r2_train, rmse_test, r2_test, test_set_size])"
   ]
  },
  {
   "cell_type": "code",
   "execution_count": 20,
   "metadata": {
    "collapsed": true
   },
   "outputs": [],
   "source": [
    "def runLinearRegressionPipeline(X, y, output_file_name):\n",
    "    temp_file = 'temp.txt'\n",
    "    # create new file for this run\n",
    "    with open(temp_file, \"w\") as fp:\n",
    "        # feature selection using Elastic Net\n",
    "        _, _, l1_ratio, alpha = getElasticNetBestHyperparams(X, y)\n",
    "        fp.write(\"l1_ratio:\" + str(l1_ratio) + \"\\n\");\n",
    "        fp.write(\"alpha:\" + str(alpha) + \"\\n\")\n",
    "        if l1_ratio == 0:\n",
    "            print(\"no features selected for \" + output_file_name)\n",
    "            fp.write(\"0 features selected by ElasticNet\")\n",
    "        else:\n",
    "            select_features_1 = getElasticNetSelectedFeatures(X, y, alpha, l1_ratio)\n",
    "            fp.write(\"select_features_1:\")\n",
    "            for feature in select_features_1:\n",
    "                fp.write(feature + \",\")\n",
    "            fp.write(\"\\n\")\n",
    "            X_reduced_1 = X[select_features_1]\n",
    "            # feature selection using OLS\n",
    "            select_features_2 = getOlsSelectedFeatures(X_reduced_1, y)\n",
    "            fp.write(\"select_features_2:\")\n",
    "            for feature in select_features_2:\n",
    "                fp.write(feature + \",\")\n",
    "            fp.write(\"\\n\")\n",
    "            if len(select_features_2) == 0:\n",
    "                X_reduced_2 = X_reduced_1\n",
    "            else:\n",
    "                X_reduced_2 = X_reduced_1[select_features_2]\n",
    "            # train Ridge regression model with final set of features\n",
    "            alpha, rmse_train, r2_train, rmse_test, r2_test, test_set_size = trainRidgeRegressionModel(X_reduced_2, y)\n",
    "            fp.write(\"ridge_alpha:\" + str(alpha) + \"\\n\")\n",
    "            fp.write(\"rmse_train:\" + str(rmse_train) + \"\\n\")\n",
    "            fp.write(\"r2_train:\" + str(r2_train) + \"\\n\")\n",
    "            fp.write(\"test_set_size:\" + str(test_set_size) + \"\\n\")\n",
    "            fp.write(\"rmse_test:\" + str(rmse_test) + \"\\n\")\n",
    "            fp.write(\"r2_test:\" + str(r2_test) + \"\\n\")\n",
    "    os.rename(temp_file, output_file_name)"
   ]
  },
  {
   "cell_type": "code",
   "execution_count": 46,
   "metadata": {
    "collapsed": true
   },
   "outputs": [],
   "source": [
    "def modellingUsingCompleteEmbryo(cells_genes_df, genes_set):\n",
    "    for target_gene in genes_set:\n",
    "        print(\"modelling using complete embryo for target gene \" + target_gene)\n",
    "        y = cells_genes_df[target_gene].copy(deep=True)\n",
    "        X = cells_genes_df.drop({target_gene}, axis=1)\n",
    "        output_file_name = \"all_cells/\" + target_gene + \"_complete.txt\"\n",
    "        # check if file already exists, if it does, then continue to next target_gene\n",
    "        if (os.path.isfile(output_file_name)):\n",
    "            print(output_file_name + \" already exists!\")\n",
    "            continue\n",
    "        runLinearRegressionPipeline(X, y, output_file_name)"
   ]
  },
  {
   "cell_type": "code",
   "execution_count": 47,
   "metadata": {
    "collapsed": true
   },
   "outputs": [],
   "source": [
    "def modellingPerCluster(cells_genes_df, cell_cluster_labels, gene_cluster_map):\n",
    "    cells_genes_df[\"cluster_labels\"] = cell_cluster_labels\n",
    "    for target_gene, clusters in gene_cluster_map.items():\n",
    "        X_cluster = cells_genes_df[cells_genes_df[\"cluster_labels\"].isin(clusters)]\n",
    "        print(\"modelling using cluster(s) \" + ','.join(clusters) + \" for target gene \" + target_gene)\n",
    "        y = X_cluster[target_gene].copy(deep=True)\n",
    "        X = X_cluster.drop({target_gene, \"cluster_labels\"}, axis=1)\n",
    "        output_file_name = \"cluster_cells/\" + target_gene + \"_cluster_\" + '_'.join(clusters) + \".txt\"\n",
    "        if (os.path.isfile(output_file_name)):\n",
    "            print(output_file_name + \" already exists!\")\n",
    "            continue\n",
    "        runLinearRegressionPipeline(X, y, output_file_name)"
   ]
  },
  {
   "cell_type": "code",
   "execution_count": 48,
   "metadata": {
    "collapsed": true
   },
   "outputs": [],
   "source": [
    "def getTopGenesPerCluster():\n",
    "    cluster_top_genes = {}\n",
    "    cluster_top_genes_file = \"cluster_top_genes.csv\"\n",
    "    with open(cluster_top_genes_file, \"r\") as fp:\n",
    "        for line in fp:\n",
    "            cluster_no = int(line.split(\", \")[0].strip())\n",
    "            top_genes = line.split(\", \")[1:]\n",
    "            top_genes = [gene.strip() for gene in top_genes]\n",
    "            cluster_top_genes[cluster_no] = top_genes\n",
    "    return cluster_top_genes"
   ]
  },
  {
   "cell_type": "code",
   "execution_count": 49,
   "metadata": {
    "collapsed": true
   },
   "outputs": [],
   "source": [
    "def getClusterLabels(X):\n",
    "    cell_cluster_labels = []\n",
    "    for cell_name in list(X.index):\n",
    "        cell_cluster_labels.append(cell_name.split(\"_\")[1])\n",
    "    return cell_cluster_labels"
   ]
  },
  {
   "cell_type": "code",
   "execution_count": 50,
   "metadata": {
    "collapsed": true
   },
   "outputs": [],
   "source": [
    "def main():\n",
    "    data_file_name = \"dge_normalized.txt\"\n",
    "    gene_sc_df = pd.read_csv(data_file_name, delimiter='\\t', header=0)\n",
    "    cells_genes_df = gene_sc_df.T\n",
    "    cell_cluster_labels = getClusterLabels(cells_genes_df)\n",
    "    cluster_top_genes = getTopGenesPerCluster()\n",
    "    genes_set = set()\n",
    "    gene_cluster_map = {}\n",
    "    for cluster, top_genes in cluster_top_genes.items():\n",
    "        genes_set.update(top_genes)\n",
    "        for gene in top_genes:\n",
    "            if gene not in gene_cluster_map:\n",
    "                gene_cluster_map[gene] = [str(cluster)]\n",
    "            else:\n",
    "                gene_cluster_map[gene].append(str(cluster))\n",
    "    modellingUsingCompleteEmbryo(cells_genes_df, genes_set)\n",
    "    modellingPerCluster(cells_genes_df, cell_cluster_labels, gene_cluster_map)"
   ]
  },
  {
   "cell_type": "code",
   "execution_count": null,
   "metadata": {},
   "outputs": [
    {
     "name": "stdout",
     "output_type": "stream",
     "text": [
      "modelling using complete embryo for target gene CG13101\n"
     ]
    },
    {
     "name": "stderr",
     "output_type": "stream",
     "text": [
      "..........................................[Parallel(n_jobs=-1)]: Done   3 out of   3 | elapsed:  5.5min finished\n"
     ]
    },
    {
     "name": "stdout",
     "output_type": "stream",
     "text": [
      "ratio(1.000000e-01) -- n: 26 -- alpha: 1.045077 -- mse: 0.469760\n"
     ]
    },
    {
     "name": "stderr",
     "output_type": "stream",
     "text": [
      "..............................[Parallel(n_jobs=-1)]: Done   3 out of   3 | elapsed:  2.1min finished\n"
     ]
    },
    {
     "name": "stdout",
     "output_type": "stream",
     "text": [
      "ratio(5.000000e-01) -- n: 21 -- alpha: 0.209015 -- mse: 0.467089\n"
     ]
    },
    {
     "name": "stderr",
     "output_type": "stream",
     "text": [
      "..............................[Parallel(n_jobs=-1)]: Done   3 out of   3 | elapsed:  2.3min finished\n"
     ]
    },
    {
     "name": "stdout",
     "output_type": "stream",
     "text": [
      "ratio(7.000000e-01) -- n: 21 -- alpha: 0.149297 -- mse: 0.466854\n"
     ]
    },
    {
     "name": "stderr",
     "output_type": "stream",
     "text": [
      "..............................[Parallel(n_jobs=-1)]: Done   3 out of   3 | elapsed:  2.6min finished\n"
     ]
    },
    {
     "name": "stdout",
     "output_type": "stream",
     "text": [
      "ratio(9.000000e-01) -- n: 21 -- alpha: 0.116120 -- mse: 0.466714\n"
     ]
    },
    {
     "name": "stderr",
     "output_type": "stream",
     "text": [
      "..............................[Parallel(n_jobs=-1)]: Done   3 out of   3 | elapsed:  2.0min finished\n"
     ]
    },
    {
     "name": "stdout",
     "output_type": "stream",
     "text": [
      "ratio(9.500000e-01) -- n: 21 -- alpha: 0.110008 -- mse: 0.466686\n"
     ]
    },
    {
     "name": "stderr",
     "output_type": "stream",
     "text": [
      "..............................[Parallel(n_jobs=-1)]: Done   3 out of   3 | elapsed:  2.2min finished\n"
     ]
    },
    {
     "name": "stdout",
     "output_type": "stream",
     "text": [
      "ratio(9.900000e-01) -- n: 21 -- alpha: 0.105563 -- mse: 0.466663\n"
     ]
    },
    {
     "name": "stderr",
     "output_type": "stream",
     "text": [
      "..............................[Parallel(n_jobs=-1)]: Done   3 out of   3 | elapsed:  2.0min finished\n"
     ]
    },
    {
     "name": "stdout",
     "output_type": "stream",
     "text": [
      "ratio(1.000000e+00) -- n: 21 -- alpha: 0.104508 -- mse: 0.466657\n",
      "for target_gene CG13101, nonzero_coeffs_num, MSE, l1-ratio, alpha:\n",
      "(21, 0.46665693761709975, 1, 0.10450773559690736)\n",
      "modelling using complete embryo for target gene CG31871\n"
     ]
    },
    {
     "name": "stderr",
     "output_type": "stream",
     "text": [
      "..............................[Parallel(n_jobs=-1)]: Done   3 out of   3 | elapsed:  1.5min finished\n"
     ]
    },
    {
     "name": "stdout",
     "output_type": "stream",
     "text": [
      "ratio(1.000000e-01) -- n: 24 -- alpha: 0.906171 -- mse: 0.372223\n"
     ]
    },
    {
     "name": "stderr",
     "output_type": "stream",
     "text": [
      "..............................[Parallel(n_jobs=-1)]: Done   3 out of   3 | elapsed:  1.6min finished\n"
     ]
    },
    {
     "name": "stdout",
     "output_type": "stream",
     "text": [
      "ratio(5.000000e-01) -- n: 22 -- alpha: 0.181234 -- mse: 0.368104\n"
     ]
    },
    {
     "name": "stderr",
     "output_type": "stream",
     "text": [
      "..............................[Parallel(n_jobs=-1)]: Done   3 out of   3 | elapsed:  1.6min finished\n"
     ]
    },
    {
     "name": "stdout",
     "output_type": "stream",
     "text": [
      "ratio(7.000000e-01) -- n: 21 -- alpha: 0.129453 -- mse: 0.367830\n"
     ]
    },
    {
     "name": "stderr",
     "output_type": "stream",
     "text": [
      "..............................[Parallel(n_jobs=-1)]: Done   3 out of   3 | elapsed:  1.7min finished\n"
     ]
    },
    {
     "name": "stdout",
     "output_type": "stream",
     "text": [
      "ratio(9.000000e-01) -- n: 21 -- alpha: 0.100686 -- mse: 0.367693\n"
     ]
    },
    {
     "name": "stderr",
     "output_type": "stream",
     "text": [
      "..............................[Parallel(n_jobs=-1)]: Done   3 out of   3 | elapsed:  1.6min finished\n"
     ]
    },
    {
     "name": "stdout",
     "output_type": "stream",
     "text": [
      "ratio(9.500000e-01) -- n: 21 -- alpha: 0.095386 -- mse: 0.367669\n"
     ]
    },
    {
     "name": "stderr",
     "output_type": "stream",
     "text": [
      "..............................[Parallel(n_jobs=-1)]: Done   3 out of   3 | elapsed:  1.6min finished\n"
     ]
    },
    {
     "name": "stdout",
     "output_type": "stream",
     "text": [
      "ratio(9.900000e-01) -- n: 21 -- alpha: 0.091532 -- mse: 0.367652\n"
     ]
    },
    {
     "name": "stderr",
     "output_type": "stream",
     "text": [
      "..............................[Parallel(n_jobs=-1)]: Done   3 out of   3 | elapsed:  1.6min finished\n"
     ]
    },
    {
     "name": "stdout",
     "output_type": "stream",
     "text": [
      "ratio(1.000000e+00) -- n: 21 -- alpha: 0.090617 -- mse: 0.367648\n",
      "for target_gene CG31871, nonzero_coeffs_num, MSE, l1-ratio, alpha:\n",
      "(21, 0.36764770315581741, 1, 0.090617148414166057)\n",
      "modelling using complete embryo for target gene sad\n"
     ]
    },
    {
     "name": "stderr",
     "output_type": "stream",
     "text": [
      "..............................[Parallel(n_jobs=-1)]: Done   3 out of   3 | elapsed:  2.0min finished\n"
     ]
    },
    {
     "name": "stdout",
     "output_type": "stream",
     "text": [
      "ratio(1.000000e-01) -- n: 235 -- alpha: 0.973830 -- mse: 1.636209\n"
     ]
    },
    {
     "name": "stderr",
     "output_type": "stream",
     "text": [
      "..............................[Parallel(n_jobs=-1)]: Done   3 out of   3 | elapsed:  1.2min finished\n"
     ]
    },
    {
     "name": "stdout",
     "output_type": "stream",
     "text": [
      "ratio(5.000000e-01) -- n: 28 -- alpha: 0.419611 -- mse: 1.649092\n"
     ]
    },
    {
     "name": "stderr",
     "output_type": "stream",
     "text": [
      "..............................[Parallel(n_jobs=-1)]: Done   3 out of   3 | elapsed:  1.3min finished\n"
     ]
    },
    {
     "name": "stdout",
     "output_type": "stream",
     "text": [
      "ratio(7.000000e-01) -- n: 27 -- alpha: 0.299722 -- mse: 1.649346\n"
     ]
    },
    {
     "name": "stderr",
     "output_type": "stream",
     "text": [
      "..............................[Parallel(n_jobs=-1)]: Done   3 out of   3 | elapsed:  1.5min finished\n"
     ]
    },
    {
     "name": "stdout",
     "output_type": "stream",
     "text": [
      "ratio(9.000000e-01) -- n: 27 -- alpha: 0.233117 -- mse: 1.649555\n"
     ]
    },
    {
     "name": "stderr",
     "output_type": "stream",
     "text": [
      "..............................[Parallel(n_jobs=-1)]: Done   3 out of   3 | elapsed:  1.4min finished\n"
     ]
    },
    {
     "name": "stdout",
     "output_type": "stream",
     "text": [
      "ratio(9.500000e-01) -- n: 26 -- alpha: 0.220848 -- mse: 1.649594\n"
     ]
    },
    {
     "name": "stderr",
     "output_type": "stream",
     "text": [
      "..............................[Parallel(n_jobs=-1)]: Done   3 out of   3 | elapsed:  1.4min finished\n"
     ]
    },
    {
     "name": "stdout",
     "output_type": "stream",
     "text": [
      "ratio(9.900000e-01) -- n: 26 -- alpha: 0.211925 -- mse: 1.649623\n"
     ]
    },
    {
     "name": "stderr",
     "output_type": "stream",
     "text": [
      "..............................[Parallel(n_jobs=-1)]: Done   3 out of   3 | elapsed:  1.4min finished\n"
     ]
    },
    {
     "name": "stdout",
     "output_type": "stream",
     "text": [
      "ratio(1.000000e+00) -- n: 26 -- alpha: 0.209805 -- mse: 1.649630\n",
      "for target_gene sad, nonzero_coeffs_num, MSE, l1-ratio, alpha:\n",
      "(26, 1.6495935004257689, 0.95, 0.22084769323335976)\n",
      "modelling using complete embryo for target gene Doc3\n"
     ]
    },
    {
     "name": "stderr",
     "output_type": "stream",
     "text": [
      "..............................[Parallel(n_jobs=-1)]: Done   3 out of   3 | elapsed:  1.1min finished\n"
     ]
    },
    {
     "name": "stdout",
     "output_type": "stream",
     "text": [
      "ratio(1.000000e-01) -- n: 56 -- alpha: 1.594895 -- mse: 1.143871\n"
     ]
    },
    {
     "name": "stderr",
     "output_type": "stream",
     "text": [
      "..............................[Parallel(n_jobs=-1)]: Done   3 out of   3 | elapsed:   50.3s finished\n"
     ]
    },
    {
     "name": "stdout",
     "output_type": "stream",
     "text": [
      "ratio(5.000000e-01) -- n: 28 -- alpha: 0.318979 -- mse: 1.113401\n"
     ]
    },
    {
     "name": "stderr",
     "output_type": "stream",
     "text": [
      "..............................[Parallel(n_jobs=-1)]: Done   3 out of   3 | elapsed:   52.1s finished\n"
     ]
    },
    {
     "name": "stdout",
     "output_type": "stream",
     "text": [
      "ratio(7.000000e-01) -- n: 28 -- alpha: 0.227842 -- mse: 1.114271\n"
     ]
    },
    {
     "name": "stderr",
     "output_type": "stream",
     "text": [
      "..............................[Parallel(n_jobs=-1)]: Done   3 out of   3 | elapsed:   47.5s finished\n"
     ]
    },
    {
     "name": "stdout",
     "output_type": "stream",
     "text": [
      "ratio(9.000000e-01) -- n: 30 -- alpha: 0.177211 -- mse: 1.115032\n"
     ]
    },
    {
     "name": "stderr",
     "output_type": "stream",
     "text": [
      "..............................[Parallel(n_jobs=-1)]: Done   3 out of   3 | elapsed:   52.0s finished\n"
     ]
    },
    {
     "name": "stdout",
     "output_type": "stream",
     "text": [
      "ratio(9.500000e-01) -- n: 29 -- alpha: 0.167884 -- mse: 1.115178\n"
     ]
    },
    {
     "name": "stderr",
     "output_type": "stream",
     "text": [
      "..............................[Parallel(n_jobs=-1)]: Done   3 out of   3 | elapsed:   50.4s finished\n"
     ]
    },
    {
     "name": "stdout",
     "output_type": "stream",
     "text": [
      "ratio(9.900000e-01) -- n: 29 -- alpha: 0.161101 -- mse: 1.115285\n"
     ]
    },
    {
     "name": "stderr",
     "output_type": "stream",
     "text": [
      "..............................[Parallel(n_jobs=-1)]: Done   3 out of   3 | elapsed:   50.5s finished\n"
     ]
    },
    {
     "name": "stdout",
     "output_type": "stream",
     "text": [
      "ratio(1.000000e+00) -- n: 29 -- alpha: 0.159490 -- mse: 1.115313\n",
      "for target_gene Doc3, nonzero_coeffs_num, MSE, l1-ratio, alpha:\n",
      "(28, 1.1134013439610919, 0.5, 0.31897902523958838)\n",
      "modelling using complete embryo for target gene grn\n"
     ]
    },
    {
     "name": "stderr",
     "output_type": "stream",
     "text": [
      ".........................."
     ]
    }
   ],
   "source": [
    "main()"
   ]
  },
  {
   "cell_type": "code",
   "execution_count": 12,
   "metadata": {
    "collapsed": true
   },
   "outputs": [],
   "source": [
    "# please ignore this cell; it's only for testing purposes\n",
    "def main2():\n",
    "    data_file_name = \"dge_normalized.txt\"\n",
    "    gene_sc_df = pd.read_csv(data_file_name, delimiter='\\t', header=0)\n",
    "    cells_genes_df = gene_sc_df.T\n",
    "    cluster_top_genes = {1:[\"Act87E\"]}\n",
    "    print(\"calling modellingUsingCompleteEmbryo\")\n",
    "    modellingUsingCompleteEmbryo(cells_genes_df, cluster_top_genes)"
   ]
  }
 ],
 "metadata": {
  "kernelspec": {
   "display_name": "Python 3",
   "language": "python",
   "name": "python3"
  },
  "language_info": {
   "codemirror_mode": {
    "name": "ipython",
    "version": 3
   },
   "file_extension": ".py",
   "mimetype": "text/x-python",
   "name": "python",
   "nbconvert_exporter": "python",
   "pygments_lexer": "ipython3",
   "version": "3.6.1"
  }
 },
 "nbformat": 4,
 "nbformat_minor": 2
}
